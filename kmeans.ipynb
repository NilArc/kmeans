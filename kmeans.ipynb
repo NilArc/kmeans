{
  "cells": [
    {
      "cell_type": "code",
      "execution_count": null,
      "id": "b9d26402",
      "metadata": {
        "id": "b9d26402"
      },
      "outputs": [],
      "source": [
        "import pandas as pd \n",
        "import matplotlib.pyplot as plt \n",
        "import numpy as np \n",
        "#from sklearn.cluster import Kmeans"
      ]
    },
    {
      "cell_type": "code",
      "execution_count": null,
      "id": "599e268a",
      "metadata": {
        "colab": {
          "base_uri": "https://localhost:8080/",
          "height": 206
        },
        "id": "599e268a",
        "outputId": "829c1796-7e68-4296-d036-61d0f5da4b81"
      },
      "outputs": [
        {
          "output_type": "execute_result",
          "data": {
            "text/plain": [
              "   CustomerID   Genre  Age  Annual Income (k$)  Spending Score (1-100)\n",
              "0           1    Male   19                  15                      39\n",
              "1           2    Male   21                  15                      81\n",
              "2           3  Female   20                  16                       6\n",
              "3           4  Female   23                  16                      77\n",
              "4           5  Female   31                  17                      40"
            ],
            "text/html": [
              "\n",
              "  <div id=\"df-dbf544a5-a9d5-4e0a-b7fb-c02bbdacdc9a\">\n",
              "    <div class=\"colab-df-container\">\n",
              "      <div>\n",
              "<style scoped>\n",
              "    .dataframe tbody tr th:only-of-type {\n",
              "        vertical-align: middle;\n",
              "    }\n",
              "\n",
              "    .dataframe tbody tr th {\n",
              "        vertical-align: top;\n",
              "    }\n",
              "\n",
              "    .dataframe thead th {\n",
              "        text-align: right;\n",
              "    }\n",
              "</style>\n",
              "<table border=\"1\" class=\"dataframe\">\n",
              "  <thead>\n",
              "    <tr style=\"text-align: right;\">\n",
              "      <th></th>\n",
              "      <th>CustomerID</th>\n",
              "      <th>Genre</th>\n",
              "      <th>Age</th>\n",
              "      <th>Annual Income (k$)</th>\n",
              "      <th>Spending Score (1-100)</th>\n",
              "    </tr>\n",
              "  </thead>\n",
              "  <tbody>\n",
              "    <tr>\n",
              "      <th>0</th>\n",
              "      <td>1</td>\n",
              "      <td>Male</td>\n",
              "      <td>19</td>\n",
              "      <td>15</td>\n",
              "      <td>39</td>\n",
              "    </tr>\n",
              "    <tr>\n",
              "      <th>1</th>\n",
              "      <td>2</td>\n",
              "      <td>Male</td>\n",
              "      <td>21</td>\n",
              "      <td>15</td>\n",
              "      <td>81</td>\n",
              "    </tr>\n",
              "    <tr>\n",
              "      <th>2</th>\n",
              "      <td>3</td>\n",
              "      <td>Female</td>\n",
              "      <td>20</td>\n",
              "      <td>16</td>\n",
              "      <td>6</td>\n",
              "    </tr>\n",
              "    <tr>\n",
              "      <th>3</th>\n",
              "      <td>4</td>\n",
              "      <td>Female</td>\n",
              "      <td>23</td>\n",
              "      <td>16</td>\n",
              "      <td>77</td>\n",
              "    </tr>\n",
              "    <tr>\n",
              "      <th>4</th>\n",
              "      <td>5</td>\n",
              "      <td>Female</td>\n",
              "      <td>31</td>\n",
              "      <td>17</td>\n",
              "      <td>40</td>\n",
              "    </tr>\n",
              "  </tbody>\n",
              "</table>\n",
              "</div>\n",
              "      <button class=\"colab-df-convert\" onclick=\"convertToInteractive('df-dbf544a5-a9d5-4e0a-b7fb-c02bbdacdc9a')\"\n",
              "              title=\"Convert this dataframe to an interactive table.\"\n",
              "              style=\"display:none;\">\n",
              "        \n",
              "  <svg xmlns=\"http://www.w3.org/2000/svg\" height=\"24px\"viewBox=\"0 0 24 24\"\n",
              "       width=\"24px\">\n",
              "    <path d=\"M0 0h24v24H0V0z\" fill=\"none\"/>\n",
              "    <path d=\"M18.56 5.44l.94 2.06.94-2.06 2.06-.94-2.06-.94-.94-2.06-.94 2.06-2.06.94zm-11 1L8.5 8.5l.94-2.06 2.06-.94-2.06-.94L8.5 2.5l-.94 2.06-2.06.94zm10 10l.94 2.06.94-2.06 2.06-.94-2.06-.94-.94-2.06-.94 2.06-2.06.94z\"/><path d=\"M17.41 7.96l-1.37-1.37c-.4-.4-.92-.59-1.43-.59-.52 0-1.04.2-1.43.59L10.3 9.45l-7.72 7.72c-.78.78-.78 2.05 0 2.83L4 21.41c.39.39.9.59 1.41.59.51 0 1.02-.2 1.41-.59l7.78-7.78 2.81-2.81c.8-.78.8-2.07 0-2.86zM5.41 20L4 18.59l7.72-7.72 1.47 1.35L5.41 20z\"/>\n",
              "  </svg>\n",
              "      </button>\n",
              "      \n",
              "  <style>\n",
              "    .colab-df-container {\n",
              "      display:flex;\n",
              "      flex-wrap:wrap;\n",
              "      gap: 12px;\n",
              "    }\n",
              "\n",
              "    .colab-df-convert {\n",
              "      background-color: #E8F0FE;\n",
              "      border: none;\n",
              "      border-radius: 50%;\n",
              "      cursor: pointer;\n",
              "      display: none;\n",
              "      fill: #1967D2;\n",
              "      height: 32px;\n",
              "      padding: 0 0 0 0;\n",
              "      width: 32px;\n",
              "    }\n",
              "\n",
              "    .colab-df-convert:hover {\n",
              "      background-color: #E2EBFA;\n",
              "      box-shadow: 0px 1px 2px rgba(60, 64, 67, 0.3), 0px 1px 3px 1px rgba(60, 64, 67, 0.15);\n",
              "      fill: #174EA6;\n",
              "    }\n",
              "\n",
              "    [theme=dark] .colab-df-convert {\n",
              "      background-color: #3B4455;\n",
              "      fill: #D2E3FC;\n",
              "    }\n",
              "\n",
              "    [theme=dark] .colab-df-convert:hover {\n",
              "      background-color: #434B5C;\n",
              "      box-shadow: 0px 1px 3px 1px rgba(0, 0, 0, 0.15);\n",
              "      filter: drop-shadow(0px 1px 2px rgba(0, 0, 0, 0.3));\n",
              "      fill: #FFFFFF;\n",
              "    }\n",
              "  </style>\n",
              "\n",
              "      <script>\n",
              "        const buttonEl =\n",
              "          document.querySelector('#df-dbf544a5-a9d5-4e0a-b7fb-c02bbdacdc9a button.colab-df-convert');\n",
              "        buttonEl.style.display =\n",
              "          google.colab.kernel.accessAllowed ? 'block' : 'none';\n",
              "\n",
              "        async function convertToInteractive(key) {\n",
              "          const element = document.querySelector('#df-dbf544a5-a9d5-4e0a-b7fb-c02bbdacdc9a');\n",
              "          const dataTable =\n",
              "            await google.colab.kernel.invokeFunction('convertToInteractive',\n",
              "                                                     [key], {});\n",
              "          if (!dataTable) return;\n",
              "\n",
              "          const docLinkHtml = 'Like what you see? Visit the ' +\n",
              "            '<a target=\"_blank\" href=https://colab.research.google.com/notebooks/data_table.ipynb>data table notebook</a>'\n",
              "            + ' to learn more about interactive tables.';\n",
              "          element.innerHTML = '';\n",
              "          dataTable['output_type'] = 'display_data';\n",
              "          await google.colab.output.renderOutput(dataTable, element);\n",
              "          const docLink = document.createElement('div');\n",
              "          docLink.innerHTML = docLinkHtml;\n",
              "          element.appendChild(docLink);\n",
              "        }\n",
              "      </script>\n",
              "    </div>\n",
              "  </div>\n",
              "  "
            ]
          },
          "metadata": {},
          "execution_count": 6
        }
      ],
      "source": [
        "\n",
        "#df = pd.read_csv(\"Mall_Customers.csv\")\n",
        "df = pd.read_csv(\"Mall_Customers.csv\")\n",
        "df.head()"
      ]
    },
    {
      "cell_type": "markdown",
      "source": [
        "# New Section"
      ],
      "metadata": {
        "id": "9ae8UjFbv8C9"
      },
      "id": "9ae8UjFbv8C9"
    },
    {
      "cell_type": "code",
      "execution_count": null,
      "id": "00c26235",
      "metadata": {
        "colab": {
          "base_uri": "https://localhost:8080/"
        },
        "id": "00c26235",
        "outputId": "80dfe0a4-a915-4e10-ac84-9951286cb14b"
      },
      "outputs": [
        {
          "output_type": "execute_result",
          "data": {
            "text/plain": [
              "CustomerID                0\n",
              "Genre                     0\n",
              "Age                       0\n",
              "Annual Income (k$)        0\n",
              "Spending Score (1-100)    0\n",
              "dtype: int64"
            ]
          },
          "metadata": {},
          "execution_count": 6
        }
      ],
      "source": [
        "df.isnull().sum()"
      ]
    },
    {
      "cell_type": "code",
      "execution_count": null,
      "id": "8bf071fc",
      "metadata": {
        "id": "8bf071fc"
      },
      "outputs": [],
      "source": [
        "#annual income and spending as X matrix\n",
        "x=df.iloc[:,[3,4]].values"
      ]
    },
    {
      "cell_type": "code",
      "execution_count": null,
      "id": "d6bd264f",
      "metadata": {
        "colab": {
          "base_uri": "https://localhost:8080/"
        },
        "id": "d6bd264f",
        "outputId": "bb62ed5e-9712-420c-d2ba-af618c718f14"
      },
      "outputs": [
        {
          "output_type": "execute_result",
          "data": {
            "text/plain": [
              "array([[ 15,  39],\n",
              "       [ 15,  81],\n",
              "       [ 16,   6],\n",
              "       [ 16,  77],\n",
              "       [ 17,  40],\n",
              "       [ 17,  76],\n",
              "       [ 18,   6],\n",
              "       [ 18,  94],\n",
              "       [ 19,   3],\n",
              "       [ 19,  72],\n",
              "       [ 19,  14],\n",
              "       [ 19,  99],\n",
              "       [ 20,  15],\n",
              "       [ 20,  77],\n",
              "       [ 20,  13],\n",
              "       [ 20,  79],\n",
              "       [ 21,  35],\n",
              "       [ 21,  66],\n",
              "       [ 23,  29],\n",
              "       [ 23,  98],\n",
              "       [ 24,  35],\n",
              "       [ 24,  73],\n",
              "       [ 25,   5],\n",
              "       [ 25,  73],\n",
              "       [ 28,  14],\n",
              "       [ 28,  82],\n",
              "       [ 28,  32],\n",
              "       [ 28,  61],\n",
              "       [ 29,  31],\n",
              "       [ 29,  87],\n",
              "       [ 30,   4],\n",
              "       [ 30,  73],\n",
              "       [ 33,   4],\n",
              "       [ 33,  92],\n",
              "       [ 33,  14],\n",
              "       [ 33,  81],\n",
              "       [ 34,  17],\n",
              "       [ 34,  73],\n",
              "       [ 37,  26],\n",
              "       [ 37,  75],\n",
              "       [ 38,  35],\n",
              "       [ 38,  92],\n",
              "       [ 39,  36],\n",
              "       [ 39,  61],\n",
              "       [ 39,  28],\n",
              "       [ 39,  65],\n",
              "       [ 40,  55],\n",
              "       [ 40,  47],\n",
              "       [ 40,  42],\n",
              "       [ 40,  42],\n",
              "       [ 42,  52],\n",
              "       [ 42,  60],\n",
              "       [ 43,  54],\n",
              "       [ 43,  60],\n",
              "       [ 43,  45],\n",
              "       [ 43,  41],\n",
              "       [ 44,  50],\n",
              "       [ 44,  46],\n",
              "       [ 46,  51],\n",
              "       [ 46,  46],\n",
              "       [ 46,  56],\n",
              "       [ 46,  55],\n",
              "       [ 47,  52],\n",
              "       [ 47,  59],\n",
              "       [ 48,  51],\n",
              "       [ 48,  59],\n",
              "       [ 48,  50],\n",
              "       [ 48,  48],\n",
              "       [ 48,  59],\n",
              "       [ 48,  47],\n",
              "       [ 49,  55],\n",
              "       [ 49,  42],\n",
              "       [ 50,  49],\n",
              "       [ 50,  56],\n",
              "       [ 54,  47],\n",
              "       [ 54,  54],\n",
              "       [ 54,  53],\n",
              "       [ 54,  48],\n",
              "       [ 54,  52],\n",
              "       [ 54,  42],\n",
              "       [ 54,  51],\n",
              "       [ 54,  55],\n",
              "       [ 54,  41],\n",
              "       [ 54,  44],\n",
              "       [ 54,  57],\n",
              "       [ 54,  46],\n",
              "       [ 57,  58],\n",
              "       [ 57,  55],\n",
              "       [ 58,  60],\n",
              "       [ 58,  46],\n",
              "       [ 59,  55],\n",
              "       [ 59,  41],\n",
              "       [ 60,  49],\n",
              "       [ 60,  40],\n",
              "       [ 60,  42],\n",
              "       [ 60,  52],\n",
              "       [ 60,  47],\n",
              "       [ 60,  50],\n",
              "       [ 61,  42],\n",
              "       [ 61,  49],\n",
              "       [ 62,  41],\n",
              "       [ 62,  48],\n",
              "       [ 62,  59],\n",
              "       [ 62,  55],\n",
              "       [ 62,  56],\n",
              "       [ 62,  42],\n",
              "       [ 63,  50],\n",
              "       [ 63,  46],\n",
              "       [ 63,  43],\n",
              "       [ 63,  48],\n",
              "       [ 63,  52],\n",
              "       [ 63,  54],\n",
              "       [ 64,  42],\n",
              "       [ 64,  46],\n",
              "       [ 65,  48],\n",
              "       [ 65,  50],\n",
              "       [ 65,  43],\n",
              "       [ 65,  59],\n",
              "       [ 67,  43],\n",
              "       [ 67,  57],\n",
              "       [ 67,  56],\n",
              "       [ 67,  40],\n",
              "       [ 69,  58],\n",
              "       [ 69,  91],\n",
              "       [ 70,  29],\n",
              "       [ 70,  77],\n",
              "       [ 71,  35],\n",
              "       [ 71,  95],\n",
              "       [ 71,  11],\n",
              "       [ 71,  75],\n",
              "       [ 71,   9],\n",
              "       [ 71,  75],\n",
              "       [ 72,  34],\n",
              "       [ 72,  71],\n",
              "       [ 73,   5],\n",
              "       [ 73,  88],\n",
              "       [ 73,   7],\n",
              "       [ 73,  73],\n",
              "       [ 74,  10],\n",
              "       [ 74,  72],\n",
              "       [ 75,   5],\n",
              "       [ 75,  93],\n",
              "       [ 76,  40],\n",
              "       [ 76,  87],\n",
              "       [ 77,  12],\n",
              "       [ 77,  97],\n",
              "       [ 77,  36],\n",
              "       [ 77,  74],\n",
              "       [ 78,  22],\n",
              "       [ 78,  90],\n",
              "       [ 78,  17],\n",
              "       [ 78,  88],\n",
              "       [ 78,  20],\n",
              "       [ 78,  76],\n",
              "       [ 78,  16],\n",
              "       [ 78,  89],\n",
              "       [ 78,   1],\n",
              "       [ 78,  78],\n",
              "       [ 78,   1],\n",
              "       [ 78,  73],\n",
              "       [ 79,  35],\n",
              "       [ 79,  83],\n",
              "       [ 81,   5],\n",
              "       [ 81,  93],\n",
              "       [ 85,  26],\n",
              "       [ 85,  75],\n",
              "       [ 86,  20],\n",
              "       [ 86,  95],\n",
              "       [ 87,  27],\n",
              "       [ 87,  63],\n",
              "       [ 87,  13],\n",
              "       [ 87,  75],\n",
              "       [ 87,  10],\n",
              "       [ 87,  92],\n",
              "       [ 88,  13],\n",
              "       [ 88,  86],\n",
              "       [ 88,  15],\n",
              "       [ 88,  69],\n",
              "       [ 93,  14],\n",
              "       [ 93,  90],\n",
              "       [ 97,  32],\n",
              "       [ 97,  86],\n",
              "       [ 98,  15],\n",
              "       [ 98,  88],\n",
              "       [ 99,  39],\n",
              "       [ 99,  97],\n",
              "       [101,  24],\n",
              "       [101,  68],\n",
              "       [103,  17],\n",
              "       [103,  85],\n",
              "       [103,  23],\n",
              "       [103,  69],\n",
              "       [113,   8],\n",
              "       [113,  91],\n",
              "       [120,  16],\n",
              "       [120,  79],\n",
              "       [126,  28],\n",
              "       [126,  74],\n",
              "       [137,  18],\n",
              "       [137,  83]])"
            ]
          },
          "metadata": {},
          "execution_count": 9
        }
      ],
      "source": [
        "x"
      ]
    },
    {
      "cell_type": "code",
      "execution_count": null,
      "id": "34b4144e",
      "metadata": {
        "id": "34b4144e"
      },
      "outputs": [],
      "source": [
        "##Configurations / Settings"
      ]
    },
    {
      "cell_type": "code",
      "execution_count": null,
      "id": "854dbefd",
      "metadata": {
        "id": "854dbefd"
      },
      "outputs": [],
      "source": [
        "#number of training samples\n",
        "m= x.shape[0]\n",
        "\n",
        "#number of features\n",
        "n= x.shape[1]\n",
        "\n",
        "#choosing the number of iteration whih guarantee convergence \n",
        "'''\n",
        "    Considerations\n",
        "    1. Number of datasets count == 100th\n",
        "    2. We could choose 1000 however, it's better to start small \n",
        "'''\n",
        "n_iterations = 100\n",
        "\n",
        "#number of clusters \n",
        "K = 5"
      ]
    },
    {
      "cell_type": "raw",
      "id": "988fa68b",
      "metadata": {
        "id": "988fa68b"
      },
      "source": []
    },
    {
      "cell_type": "code",
      "execution_count": null,
      "id": "c296a2e9",
      "metadata": {
        "id": "c296a2e9"
      },
      "outputs": [],
      "source": [
        "#Step 1. Initialize the centroids randomly \n",
        "import random as rd\n",
        "centroids = np.array ([]).reshape(n, 0)\n",
        "'''\n",
        "    Horizontal Concatenation\n",
        "    numpy c_ == https://stackoverflow.com/questions/10894323/what-does-the-c-underscore-expression-c-do-exaclty\n",
        "'''\n",
        "\n",
        "for i in range(5):\n",
        "    rand=rd.randint(0, m-1) #random\n",
        "    centroids=np.c_[centroids, x[rand]] #randomize centroids\n",
        " \n"
      ]
    },
    {
      "cell_type": "code",
      "execution_count": null,
      "id": "fee36fd2",
      "metadata": {
        "id": "fee36fd2"
      },
      "outputs": [],
      "source": [
        "#Step 2a. From each training sample\n",
        "'''\n",
        "    2.1 Compute the euclidean distance of centroid\n",
        "    2.2 Assign the cluster based on the minimal distance \n",
        "    2.3 Expected output should be in a dictionary with clusters \n",
        "'''\n",
        "\n",
        "#Initialize Dictionary\n",
        "\n",
        "output = {}\n",
        "\n",
        "'''\n",
        "    2.4 Find the euclidean distance (ED) from each point to all centroids \n",
        "    2.5 Store in a m X K matrix --> Every row in ED will have distance from all the centroids\n",
        "    2.6 Find the minimum distance and store the index of the column in a vector C \n",
        "'''\n",
        "ED = np.array([]).reshape(m, 0)\n",
        "\n",
        "for k in range (K):\n",
        "    temporary_distance = np.sum((x-centroids[:, k])**2, axis=1)\n",
        "    #ED = np.c_(ED, temporary_distance)\n",
        "    ED = np.c_[ED, temporary_distance]\n",
        "    \n",
        "C = np.argmin(ED, axis = 1)+1\n"
      ]
    },
    {
      "cell_type": "code",
      "execution_count": null,
      "id": "cbaa821e",
      "metadata": {
        "id": "cbaa821e"
      },
      "outputs": [],
      "source": [
        "#Step 2b.\n",
        "'''\n",
        "    2.7 regroup the data points based on the cluster index C\n",
        "    2.8 Store in an output dictionary (2.7)\n",
        "    2.9 Compute the mean of separated clusters (2.8)\n",
        "    3.0 Assign new centroids from (2.9)\n",
        "'''\n",
        "\n",
        "Y = {}\n",
        "for k in range(K):\n",
        "    Y[k+1] = np.array([]).reshape(2,0)\n",
        "    \n",
        "    #Horizontal Concatenation, regrouping -> clustered index C\n",
        "for i in range(m):\n",
        "    Y[C[i]] = np.c_[Y[C[i]], x[i]]\n",
        "    \n",
        "    #Tranpose \n",
        "for k in range(K):\n",
        "    Y[k+1] = Y[k+1].T\n",
        "                      \n",
        "    #Mean Computation & New Assigned centroid\n",
        "for k in range(K):\n",
        "    centroids[:, k]= np.mean(Y[k+1], axis=0)\n",
        "            \n",
        "output = Y"
      ]
    },
    {
      "cell_type": "code",
      "execution_count": null,
      "id": "55e4bf22",
      "metadata": {
        "id": "55e4bf22"
      },
      "outputs": [],
      "source": [
        "from collections import defaultdict\n",
        "Output=defaultdict()\n",
        "Output={}"
      ]
    },
    {
      "cell_type": "code",
      "execution_count": null,
      "id": "f6ffc761",
      "metadata": {
        "id": "f6ffc761"
      },
      "outputs": [],
      "source": [
        "#Combining Step 2a &2b\n",
        "\n",
        "for i in range(n_iterations):\n",
        "    \n",
        "    #step 2a.\n",
        "    ED = np.array([]).reshape(m, 0)\n",
        "    for k in range(K):\n",
        "        temporary_distance = np.sum((x-centroids[:,k])**2, axis=1)\n",
        "        #ED = np.c_(ED, temporary_distance)\n",
        "        ED = np.c_[ED, temporary_distance]\n",
        "        \n",
        "    C = np.argmin(ED, axis=1)+1\n",
        "    \n",
        "    #stem 2b.\n",
        "    \n",
        "    Y={}\n",
        "    \n",
        "    for k in range(K):\n",
        "        #\n",
        "        Y[k+1] = np.array([]).reshape(2,0)\n",
        "        \n",
        "    for i in range(m):\n",
        "        #Horizontal Concatenate\n",
        "        Y[C[i]] = np.c_[Y[C[i]], x[i]]\n",
        "        \n",
        "    for k in range(K):\n",
        "        #Tranpose \n",
        "        Y[k+1] = Y[k+1].T\n",
        "        \n",
        "    for k in range(K):\n",
        "        #Average Mean\n",
        "        centroids[:, k] = np.mean (Y[k+1], axis=0)\n",
        "    \n",
        "    Output = Y\n",
        "    "
      ]
    },
    {
      "cell_type": "code",
      "execution_count": null,
      "id": "f3239c6a",
      "metadata": {
        "colab": {
          "base_uri": "https://localhost:8080/",
          "height": 295
        },
        "id": "f3239c6a",
        "outputId": "a5b25d2c-f647-43af-851a-ee7a495893a8"
      },
      "outputs": [
        {
          "output_type": "display_data",
          "data": {
            "text/plain": [
              "<Figure size 432x288 with 1 Axes>"
            ],
            "image/png": "[encoded data removed]"
          },
          "metadata": {
            "needs_background": "light"
          }
        }
      ],
      "source": [
        "#Raw Data \n",
        "\n",
        "plt.scatter(x[:, 0], x[:, 1], c='black', label='Unclustered Data')\n",
        "plt.xlabel('Income')\n",
        "plt.ylabel('# of instructions')\n",
        "plt.legend()\n",
        "plt.title('Plot of data points')\n",
        "plt.show()"
      ]
    },
    {
      "cell_type": "code",
      "execution_count": null,
      "id": "a2e3b6db",
      "metadata": {
        "colab": {
          "base_uri": "https://localhost:8080/",
          "height": 295
        },
        "id": "a2e3b6db",
        "outputId": "5f7d72e8-63f7-4d84-8fd6-d105eccd50e8"
      },
      "outputs": [
        {
          "output_type": "display_data",
          "data": {
            "text/plain": [
              "<Figure size 432x288 with 1 Axes>"
            ],
            "image/png": "[encoded data removed]"
          },
          "metadata": {
            "needs_background": "light"
          }
        }
      ],
      "source": [
        "#Clustered Data\n",
        "\n",
        "color = ['red', 'blue', 'green', 'cyan', 'magenta']\n",
        "labels = ['cluster#1', 'cluster#2', 'cluster#3', 'cluster#4', 'cluster#5' ]\n",
        "\n",
        "for k in range(K):\n",
        "    plt.scatter(Output[k+1][:,0],\n",
        "                 Output [k+1][:,1],\n",
        "                 c=color[k],\n",
        "                 label=labels[k])\n",
        "          \n",
        "plt.scatter(centroids[0,:] , centroids[1,:], s=150, c='yellow', label='centroid')\n",
        "plt.xlabel('Income')\n",
        "plt.ylabel('# of instructions')\n",
        "plt.legend()\n",
        "plt.title('Plot of data points')\n",
        "plt.show()\n",
        "          "
      ]
    }
  ],
  "metadata": {
    "kernelspec": {
      "display_name": "Python 3 (ipykernel)",
      "language": "python",
      "name": "python3"
    },
    "language_info": {
      "codemirror_mode": {
        "name": "ipython",
        "version": 3
      },
      "file_extension": ".py",
      "mimetype": "text/x-python",
      "name": "python",
      "nbconvert_exporter": "python",
      "pygments_lexer": "ipython3",
      "version": "3.9.12"
    },
    "colab": {
      "provenance": []
    }
  },
  "nbformat": 4,
  "nbformat_minor": 5
}